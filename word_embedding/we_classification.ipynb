{
 "cells": [
  {
   "cell_type": "code",
   "execution_count": 1,
   "metadata": {},
   "outputs": [],
   "source": [
    "import numpy as np\n",
    "from sklearn.svm import LinearSVC\n",
    "from sklearn.metrics import (\n",
    "    accuracy_score,\n",
    "    f1_score,\n",
    "    classification_report,\n",
    "    confusion_matrix,\n",
    "    roc_auc_score,\n",
    "    make_scorer\n",
    ")\n",
    "from scikitplot.metrics import plot_roc\n",
    "from scikitplot.metrics import plot_precision_recall\n",
    "import matplotlib.pyplot as plt\n",
    "from sklearn.metrics import classification_report \n",
    "from sklearn.model_selection import GridSearchCV, cross_val_predict"
   ]
  },
  {
   "cell_type": "markdown",
   "metadata": {},
   "source": [
    "# Classificazione con Word Embeddings"
   ]
  },
  {
   "cell_type": "markdown",
   "metadata": {},
   "source": [
    "In questo notebook è mostrata la classificazione dei testi con delle rappresentazioni basate sulle combinazioni delle word embeddings.\n",
    "Sono stati testati 3 diversi dataset: (sono spiegati nel report e nel file we_dataset_creation.ipynb)\n",
    "1) Dataset Mean,\n",
    "2) Dataset Diff,\n",
    "3) Dataset Min_Dist"
   ]
  },
  {
   "cell_type": "markdown",
   "metadata": {},
   "source": [
    "## DATASET MEAN"
   ]
  },
  {
   "cell_type": "code",
   "execution_count": 2,
   "metadata": {},
   "outputs": [],
   "source": [
    "X_train_mean = np.load('../data/we/TED_we_mean.npz')['X_train']\n",
    "y_train_mean = np.load('../data/we/TED_we_mean.npz')['y_train']\n",
    "X_test_mean = np.load('../data/we/TED_we_mean.npz')['X_test']\n",
    "y_test_mean = np.load('../data/we/TED_we_mean.npz')['y_test']"
   ]
  },
  {
   "cell_type": "markdown",
   "metadata": {},
   "source": [
    "### Model Selection"
   ]
  },
  {
   "cell_type": "code",
   "execution_count": 4,
   "metadata": {},
   "outputs": [
    {
     "name": "stdout",
     "output_type": "stream",
     "text": [
      "LinearSVC(C=10, dual=True)\n",
      "{'C': 10, 'dual': True, 'max_iter': 1000, 'penalty': 'l2'}\n",
      "0.509375\n"
     ]
    }
   ],
   "source": [
    "# cerco gli iperparametri C e max_iter migliori con una 5 fold crossvalidation sul training set.\n",
    "parameters = {\n",
    "    'C': [0.01, 0.1, 1, 10, 100],  # Parametro di regolarizzazione\n",
    "    'penalty': ['l2'],\n",
    "    'dual': [True],  \n",
    "    'max_iter': [1000, 2000, 3000],\n",
    "}\n",
    "\n",
    "clf = LinearSVC()\n",
    "gs = GridSearchCV(\n",
    "    clf, \n",
    "    parameters, \n",
    "    scoring='accuracy', \n",
    "    n_jobs=-1,\n",
    "    refit=True,\n",
    "    cv=5\n",
    "    )\n",
    "gs.fit(X_train_mean, y_train_mean)\n",
    "print(gs.best_estimator_)\n",
    "print(gs.best_params_)\n",
    "print(gs.best_score_)"
   ]
  },
  {
   "cell_type": "markdown",
   "metadata": {},
   "source": [
    "### Test"
   ]
  },
  {
   "cell_type": "code",
   "execution_count": 5,
   "metadata": {},
   "outputs": [
    {
     "name": "stdout",
     "output_type": "stream",
     "text": [
      "              precision    recall  f1-score   support\n",
      "\n",
      "           0       0.47      0.49      0.48       400\n",
      "           1       0.47      0.45      0.46       400\n",
      "\n",
      "    accuracy                           0.47       800\n",
      "   macro avg       0.47      0.47      0.47       800\n",
      "weighted avg       0.47      0.47      0.47       800\n",
      "\n"
     ]
    }
   ],
   "source": [
    "y_pred = gs.best_estimator_.predict(X_test_mean)\n",
    "print(classification_report(y_test_mean, y_pred))"
   ]
  },
  {
   "cell_type": "markdown",
   "metadata": {},
   "source": [
    "## DATASET DIFF"
   ]
  },
  {
   "cell_type": "code",
   "execution_count": 3,
   "metadata": {},
   "outputs": [],
   "source": [
    "X_train_diff = np.load('../data/we/TED_we_diff.npz')['X_train']\n",
    "y_train_diff = np.load('../data/we/TED_we_diff.npz')['y_train']\n",
    "X_test_diff = np.load('../data/we/TED_we_diff.npz')['X_test']\n",
    "y_test_diff = np.load('../data/we/TED_we_diff.npz')['y_test']"
   ]
  },
  {
   "cell_type": "markdown",
   "metadata": {},
   "source": [
    "### Model Selection"
   ]
  },
  {
   "cell_type": "code",
   "execution_count": 9,
   "metadata": {},
   "outputs": [
    {
     "name": "stdout",
     "output_type": "stream",
     "text": [
      "LinearSVC(C=0.01, dual=True)\n",
      "{'C': 0.01, 'dual': True, 'max_iter': 1000, 'penalty': 'l2'}\n",
      "0.55975\n"
     ]
    }
   ],
   "source": [
    "# cerco gli iperparametri C e max_iter migliori con una 5 fold crossvalidation sul training set.\n",
    "parameters = {\n",
    "    'C': [0.01, 0.1, 1, 10, 100],  # Parametro di regolarizzazione\n",
    "    'penalty': ['l2'],\n",
    "    'dual': [True],  \n",
    "    'max_iter': [1000, 2000, 3000],\n",
    "}\n",
    "\n",
    "clf = LinearSVC()\n",
    "gs = GridSearchCV(\n",
    "    clf, \n",
    "    parameters, \n",
    "    scoring='accuracy', \n",
    "    n_jobs=-1,\n",
    "    refit=True,\n",
    "    cv=5\n",
    "    )\n",
    "gs.fit(X_train_diff, y_train_diff)\n",
    "print(gs.best_estimator_)\n",
    "print(gs.best_params_)\n",
    "print(gs.best_score_)"
   ]
  },
  {
   "cell_type": "markdown",
   "metadata": {},
   "source": [
    "### Test"
   ]
  },
  {
   "cell_type": "code",
   "execution_count": 10,
   "metadata": {},
   "outputs": [
    {
     "name": "stdout",
     "output_type": "stream",
     "text": [
      "              precision    recall  f1-score   support\n",
      "\n",
      "           0       0.58      0.56      0.57       400\n",
      "           1       0.58      0.60      0.59       400\n",
      "\n",
      "    accuracy                           0.58       800\n",
      "   macro avg       0.58      0.58      0.58       800\n",
      "weighted avg       0.58      0.58      0.58       800\n",
      "\n"
     ]
    }
   ],
   "source": [
    "y_pred = gs.best_estimator_.predict(X_test_diff)\n",
    "print(classification_report(y_test_diff, y_pred))"
   ]
  },
  {
   "cell_type": "markdown",
   "metadata": {},
   "source": [
    "## DATASET MIN_DIST"
   ]
  },
  {
   "cell_type": "code",
   "execution_count": 4,
   "metadata": {},
   "outputs": [],
   "source": [
    "X_train_dist = np.load('../data/we/TED_we_dist.npz')['X_train']\n",
    "y_train_dist = np.load('../data/we/TED_we_dist.npz')['y_train']\n",
    "X_test_dist = np.load('../data/we/TED_we_dist.npz')['X_test']\n",
    "y_test_dist = np.load('../data/we/TED_we_dist.npz')['y_test']"
   ]
  },
  {
   "cell_type": "markdown",
   "metadata": {},
   "source": [
    "### Model Selection"
   ]
  },
  {
   "cell_type": "code",
   "execution_count": 12,
   "metadata": {},
   "outputs": [
    {
     "name": "stdout",
     "output_type": "stream",
     "text": [
      "LinearSVC(C=0.01, dual=True)\n",
      "{'C': 0.01, 'dual': True, 'max_iter': 1000, 'penalty': 'l2'}\n",
      "0.63225\n"
     ]
    }
   ],
   "source": [
    "# cerco gli iperparametri C e max_iter migliori con una 5 fold crossvalidation sul training set.\n",
    "parameters = {\n",
    "    'C': [0.01, 0.1, 1, 10, 100],  # Parametro di regolarizzazione\n",
    "    'penalty': ['l2'],\n",
    "    'dual': [True],  \n",
    "    'max_iter': [1000, 2000, 3000],\n",
    "}\n",
    "\n",
    "clf = LinearSVC()\n",
    "gs = GridSearchCV(\n",
    "    clf, \n",
    "    parameters, \n",
    "    scoring='accuracy', \n",
    "    n_jobs=-1,\n",
    "    refit=True,\n",
    "    cv=5\n",
    "    )\n",
    "gs.fit(X_train_dist, y_train_dist)\n",
    "print(gs.best_estimator_)\n",
    "print(gs.best_params_)\n",
    "print(gs.best_score_)"
   ]
  },
  {
   "cell_type": "markdown",
   "metadata": {},
   "source": [
    "### Test"
   ]
  },
  {
   "cell_type": "code",
   "execution_count": 13,
   "metadata": {},
   "outputs": [
    {
     "name": "stdout",
     "output_type": "stream",
     "text": [
      "              precision    recall  f1-score   support\n",
      "\n",
      "           0       0.61      0.73      0.66       400\n",
      "           1       0.66      0.53      0.59       400\n",
      "\n",
      "    accuracy                           0.63       800\n",
      "   macro avg       0.63      0.63      0.62       800\n",
      "weighted avg       0.63      0.63      0.62       800\n",
      "\n"
     ]
    }
   ],
   "source": [
    "y_pred = gs.best_estimator_.predict(X_test_dist)\n",
    "print(classification_report(y_test_dist, y_pred))"
   ]
  },
  {
   "cell_type": "code",
   "execution_count": null,
   "metadata": {},
   "outputs": [],
   "source": []
  }
 ],
 "metadata": {
  "kernelspec": {
   "display_name": "DEEPL",
   "language": "python",
   "name": "python3"
  },
  "language_info": {
   "codemirror_mode": {
    "name": "ipython",
    "version": 3
   },
   "file_extension": ".py",
   "mimetype": "text/x-python",
   "name": "python",
   "nbconvert_exporter": "python",
   "pygments_lexer": "ipython3",
   "version": "3.10.13"
  }
 },
 "nbformat": 4,
 "nbformat_minor": 2
}
