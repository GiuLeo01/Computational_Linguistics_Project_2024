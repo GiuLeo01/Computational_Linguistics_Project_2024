{
 "cells": [
  {
   "cell_type": "code",
   "execution_count": 1,
   "metadata": {},
   "outputs": [],
   "source": [
    "import re\n",
    "import os\n",
    "import numpy as np\n",
    "import pandas as pd"
   ]
  },
  {
   "cell_type": "code",
   "execution_count": 3,
   "metadata": {},
   "outputs": [],
   "source": [
    "def extract_records(path:str, split_input=False)-> list:\n",
    "    with open(path) as f:\n",
    "        raw = f.read()\n",
    "\n",
    "\n",
    "\n",
    "    raw_splitted = raw.split('\\t')\n",
    "\n",
    "\n",
    "    # questo ciclo while serve perchè il formato del file non è ben diviso dagli \\t, così vengono inseriti gli \\t mancanti tra la classe della riga precedente, e l'id della successiva\n",
    "    # per funzionare serve rimuovere manualmente dal file tsv la riga degli header.\n",
    "    j = 3\n",
    "    splitted = []\n",
    "    splitted += raw_splitted[0:3]\n",
    "    while j < len(raw_splitted):\n",
    "        if len(raw_splitted[j]) in range(5,30):\n",
    "            raw_splitted[j] = re.sub(r\"(^[01])\",r'\\1\\t',raw_splitted[j]) # aggiungo \\t per poi subito dopo separare\n",
    "            split = raw_splitted[j].split('\\t')\n",
    "        else:\n",
    "            split = [raw_splitted[j]]\n",
    "\n",
    "        splitted += split\n",
    "        j+=1\n",
    "\n",
    "        \n",
    "\n",
    "    res_list = []\n",
    "\n",
    "\n",
    "    # se voglio che il prompt e il target siano trattati come unico testo\n",
    "    if not split_input:\n",
    "        i = 0\n",
    "        while i < len(splitted):\n",
    "            text = splitted[i+1].strip('\\\"') + '\\n' + splitted[i+2].strip('\\\"')\n",
    "            id = splitted[i]\n",
    "            class_ = splitted[i+3]\n",
    "            res_list.append({\n",
    "                'id':id.strip('\\n'),\n",
    "                'text':text,\n",
    "                'class': int(class_.strip('\\n'))\n",
    "            })\n",
    "            i+=4\n",
    "\n",
    "    # se voglio che il prompt e il target siano tenuti separati\n",
    "    if split_input:\n",
    "        i = 0\n",
    "        while i < len(splitted):\n",
    "            prompt = splitted[i+1]\n",
    "            target = splitted[i+2]\n",
    "            id = splitted[i]\n",
    "            class_ = splitted[i+3]\n",
    "            res_list.append({\n",
    "                'id':id.strip('\\n'),\n",
    "                'prompt': prompt.strip('\\\"'),\n",
    "                'target': target.strip('\\\"'),\n",
    "                'class': int(class_.strip('\\n'))\n",
    "            })\n",
    "            i+=4\n",
    "\n",
    "    \n",
    "\n",
    "    return res_list\n",
    "\n",
    "\n",
    "\n",
    "\n",
    "train_ted_splitted = extract_records('../data/discotex_1_ted_train.tsv', True)\n",
    "train_ted = extract_records('../data/discotex_1_ted_train.tsv', False)\n",
    "\n",
    "\"\"\"\n",
    "DATASET WIKI NON UTILIZZATO ALLA FINE\n",
    "train_wiki_splitted = extract_records('../data/discotex_1_wiki_train.tsv', True)\n",
    "train_wiki = extract_records('../data/discotex_1_wiki_train.tsv', False)\n",
    "\"\"\"\n",
    "\n",
    "test_ted_splitted = extract_records('../data/discotex_1_ted_test_set_release.tsv', True)\n",
    "test_ted = extract_records('../data/discotex_1_ted_test_set_release.tsv', False)\n",
    "\n",
    "\"\"\"\n",
    "DATASET WIKI NON UTILIZZATO ALLA FINE\n",
    "test_wiki_splitted = extract_records('../data/discotex_1_wiki_test_set_release.tsv', True)\n",
    "test_wiki = extract_records('../data/discotex_1_wiki_test_set_release.tsv', False)\n",
    "\"\"\""
   ]
  },
  {
   "cell_type": "markdown",
   "metadata": {},
   "source": [
    "Ora faccio qualche controllo per capire se tutto ha preservato il corretto ordine"
   ]
  },
  {
   "cell_type": "code",
   "execution_count": 62,
   "metadata": {},
   "outputs": [
    {
     "data": {
      "text/plain": [
       "(8000, 8000)"
      ]
     },
     "execution_count": 62,
     "metadata": {},
     "output_type": "execute_result"
    }
   ],
   "source": [
    "# controllo le dimensioni per capire se tutto quadra\n",
    "len(train_ted_splitted),len(train_ted)"
   ]
  },
  {
   "cell_type": "code",
   "execution_count": 63,
   "metadata": {},
   "outputs": [
    {
     "data": {
      "text/plain": [
       "(800, 800)"
      ]
     },
     "execution_count": 63,
     "metadata": {},
     "output_type": "execute_result"
    }
   ],
   "source": [
    "len(test_ted_splitted),len(test_ted)"
   ]
  },
  {
   "cell_type": "markdown",
   "metadata": {},
   "source": [
    "Ora creo le cartelle e i file"
   ]
  },
  {
   "cell_type": "code",
   "execution_count": 4,
   "metadata": {},
   "outputs": [],
   "source": [
    "def print_files(train:list, test:list, dataset_name:str, splitted=False):\n",
    "    \"\"\"\n",
    "    Funzione che stampa i documenti come singoli file di testo, il nome del file conterrà l'id e la label.\n",
    "    Se \"splitted==True\", prompt e target saranno stampati su file diversi, sempre nel nome del file quindi sarà presente o \"prompt\" o \"target\"\n",
    "    \n",
    "    \"\"\"\n",
    "\n",
    "    \n",
    "    dir = f'../data/{dataset_name}'\n",
    "    train_dir = f'../data/{dataset_name}/train'\n",
    "    test_dir = f'../data/{dataset_name}/test'\n",
    "\n",
    "    try:\n",
    "        os.makedirs(dir)\n",
    "        os.makedirs(train_dir)\n",
    "        os.makedirs(test_dir)\n",
    "    except FileExistsError:\n",
    "        pass\n",
    "\n",
    "    if not splitted:\n",
    "        for i,record in enumerate(train):\n",
    "            with open(f'{train_dir}/{i}_{record[\"class\"]}.txt', 'w') as f:\n",
    "                f.write(record['text'])\n",
    "\n",
    "        for i,record in enumerate(test):\n",
    "            with open(f'{test_dir}/{i}_{record[\"class\"]}.txt', 'w') as f:\n",
    "                f.write(record['text'])\n",
    "\n",
    "    else:\n",
    "        for i,record in enumerate(train):\n",
    "            with open(f'{train_dir}/{i}_{record[\"class\"]}_prompt.txt', 'w') as f:\n",
    "                f.write(record['prompt'])\n",
    "            with open(f'{train_dir}/{i}_{record[\"class\"]}_target.txt', 'w') as f:\n",
    "                f.write(record['target'])\n",
    "\n",
    "        for i,record in enumerate(test):\n",
    "            with open(f'{test_dir}/{i}_{record[\"class\"]}_prompt.txt', 'w') as f:\n",
    "                f.write(record['prompt'])\n",
    "            with open(f'{test_dir}/{i}_{record[\"class\"]}_target.txt', 'w') as f:\n",
    "                f.write(record['target'])\n",
    "\n",
    "\n",
    "\n",
    "\n",
    "print_files(train_ted, test_ted, 'TED')\n",
    "print_files(train_ted_splitted, test_ted_splitted, 'TED_split', True)\n",
    "\n",
    "\"\"\"\n",
    "DATASET WIKI NON UTILIZZATO ALLA FINE\n",
    "print_files(train_wiki, test_wiki, 'WIKI')\n",
    "print_files(train_wiki_splitted, test_wiki_splitted, 'WIKI_split', True)\n",
    "\"\"\"\n"
   ]
  }
 ],
 "metadata": {
  "kernelspec": {
   "display_name": "DEEPL",
   "language": "python",
   "name": "python3"
  },
  "language_info": {
   "codemirror_mode": {
    "name": "ipython",
    "version": 3
   },
   "file_extension": ".py",
   "mimetype": "text/x-python",
   "name": "python",
   "nbconvert_exporter": "python",
   "pygments_lexer": "ipython3",
   "version": "3.10.13"
  }
 },
 "nbformat": 4,
 "nbformat_minor": 2
}
